{
 "cells": [
  {
   "cell_type": "code",
   "execution_count": null,
   "metadata": {
    "collapsed": true,
    "ExecuteTime": {
     "start_time": "2023-07-25T20:24:59.709893Z"
    }
   },
   "outputs": [
    {
     "name": "stdout",
     "output_type": "stream",
     "text": [
      "25/07/2023\n",
      "Data saved successfully!\n"
     ]
    }
   ],
   "source": [
    "import tkinter as tk\n",
    "from tkinter import ttk\n",
    "from tkinter import *\n",
    "from tkcalendar import DateEntry  # Import the DateEntry widget from tkcalendar\n",
    "from datetime import datetime\n",
    "import json\n",
    "\n",
    "import os\n",
    "import sys\n",
    "\n",
    "file_dir = os.path.dirname('/Users/valentinagualt/PycharmProjects/Gualtieri/gualtieri/auxiliaryFunctions.py')\n",
    "sys.path.append(file_dir)\n",
    "\n",
    "from auxiliaryFunctions import *\n",
    "\n",
    "\n",
    "\n",
    "# Sample data for the time slots\n",
    "time_slots = load_timeslots()\n",
    "# Sample list of possibilities\n",
    "activities = load_activities(path='/Users/valentinagualt/PycharmProjects/Gualtieri/activities.txt')\n",
    "\n",
    "# Load the existing JSON data from the file (if it exists)\n",
    "file_name = \"/Users/valentinagualt/PycharmProjects/Gualtieri/saved_data.json\"  # Replace with the name of your JSON file\n",
    "data_saved = load_json_data(file_name)\n",
    "\n",
    "# Data storage for saving\n",
    "data_to_save = {}\n",
    "\n",
    "\n",
    "def save_data():\n",
    "    global data_to_save\n",
    "\n",
    "    # Get the selected date\n",
    "    selected_date = date_var.get()\n",
    "    print(selected_date)\n",
    "\n",
    "    selected_activities = []\n",
    "\n",
    "    # get a list of the selected activities\n",
    "    for row, time_slot in enumerate(time_slots, start=0):\n",
    "        activity = activity_vars[row].get()\n",
    "        selected_activities.append(activity)\n",
    "\n",
    "    activity_n_timeslots = count_element_repetitions(selected_activities)\n",
    "    for case in activity_n_timeslots:\n",
    "        activity = case[0]\n",
    "        if activity != 'None':\n",
    "            n_timeslots = case[1]\n",
    "\n",
    "            activity_decomposed = activity.split('/')\n",
    "            project_code = activity_decomposed[0]\n",
    "            scope_code = 'Undefined'\n",
    "            task_code = 'Undefined'\n",
    "\n",
    "            if len(activity_decomposed) == 2:\n",
    "                scope_code = activity_decomposed[1]\n",
    "\n",
    "            elif len(activity_decomposed) == 3:\n",
    "                scope_code = activity_decomposed[1]\n",
    "                task_code = activity_decomposed[2]\n",
    "\n",
    "            total_time_on_activity = n_timeslots / 2 #assuming each timeslot half an hour\n",
    "\n",
    "            data_to_save = {\n",
    "                f'{project_code}':{\n",
    "                    f'{scope_code}':{\n",
    "                        f'{task_code}':{\n",
    "                            'dates': [selected_date],\n",
    "                            'duration': [total_time_on_activity]\n",
    "\n",
    "                        }\n",
    "                    }\n",
    "                }\n",
    "            }\n",
    "\n",
    "            # Save the data to a JSON file\n",
    "            with open(\"/Users/valentinagualt/PycharmProjects/Gualtieri/saved_data.json\", \"a\") as file:\n",
    "                json.dump(data_to_save, file)\n",
    "\n",
    "    print(\"Data saved successfully!\")\n",
    "\n",
    "\n",
    "def create_entry_gui():\n",
    "    root = tk.Tk()\n",
    "    root.title(\"Data Entry GUI\")\n",
    "\n",
    "    # Create a frame for the data entry table\n",
    "    entry_frame = ttk.Frame(root)\n",
    "    entry_frame.pack(padx=10, pady=10)\n",
    "\n",
    "    # Get the current date\n",
    "    current_date = datetime.now().date()\n",
    "\n",
    "    # Create the header for the table\n",
    "    ttk.Label(entry_frame, text=\"Time Slot\").grid(row=0, column=0)\n",
    "\n",
    "    # Create a DateEntry widget for the right column header to select the date\n",
    "    global date_var\n",
    "    date_var = tk.StringVar()\n",
    "    date_var.set(current_date.strftime(\"%d/%m/%Y\"))\n",
    "    date_entry = DateEntry(entry_frame, width=12, date_pattern=\"dd/mm/yyyy\", textvariable=date_var)\n",
    "    date_entry.grid(row=0, column=1)\n",
    "\n",
    "    # Create a canvas with scrollbar to make the time slots accessible\n",
    "    canvas = tk.Canvas(entry_frame)\n",
    "    canvas.grid(row=1, column=0, columnspan=2)\n",
    "    scrollbar = ttk.Scrollbar(entry_frame, orient=\"vertical\", command=canvas.yview)\n",
    "    scrollbar.grid(row=1, column=2, sticky=\"ns\")\n",
    "    canvas.configure(yscrollcommand=scrollbar.set)\n",
    "\n",
    "    # Create a frame inside the canvas to hold the time slots and activities\n",
    "    inner_frame = ttk.Frame(canvas)\n",
    "    canvas.create_window((0, 0), window=inner_frame, anchor=\"nw\")\n",
    "\n",
    "    # Function to update the scrollable region of the canvas\n",
    "    def configure_scroll_region(event):\n",
    "        canvas.configure(scrollregion=canvas.bbox(\"all\"))\n",
    "\n",
    "    inner_frame.bind(\"<Configure>\", configure_scroll_region)\n",
    "\n",
    "    # Create the rows for data entry with time slots on the left and dropdown on the right\n",
    "\n",
    "    global activity_vars\n",
    "    activity_vars = []\n",
    "\n",
    "    for row, time_slot in enumerate(time_slots, start=1):\n",
    "        ttk.Label(inner_frame, text=f\"{time_slot}\", anchor=\"center\").grid(row=row, column=0)\n",
    "\n",
    "        # Create a dropdown menu for selecting among the list of activities\n",
    "        activity_var = tk.StringVar()\n",
    "        activity_var.set(activities[0])  # Set the default option\n",
    "        activity_dropdown = ttk.OptionMenu(inner_frame, activity_var, *activities)\n",
    "        activity_dropdown.grid(row=row, column=1)\n",
    "\n",
    "        activity_vars.append(activity_var)\n",
    "\n",
    "\n",
    "    # Add a 'Save' button to save the data\n",
    "    save_button = ttk.Button(entry_frame, text=\"Save\", command=save_data)\n",
    "    save_button.grid(row=len(time_slots) + 1, column=1)\n",
    "\n",
    "    root.mainloop()\n",
    "\n",
    "\n",
    "if __name__ == \"__main__\":\n",
    "    create_entry_gui()"
   ]
  },
  {
   "cell_type": "code",
   "execution_count": null,
   "outputs": [],
   "source": [
    "import json\n",
    "from datetime import datetime\n",
    "\n",
    "# Function to convert date string to datetime object\n",
    "def string_to_datetime(date_str):\n",
    "    return datetime.strptime(date_str, \"%d/%m/%Y\")\n",
    "\n",
    "# Sample date string\n",
    "date_string = \"25/07/2023\"\n",
    "\n",
    "# Convert date string to datetime object\n",
    "date_time_element = string_to_datetime(date_string)\n",
    "\n",
    "# Sample data to save\n",
    "data_to_save = {\"date\": date_time_element}\n",
    "\n",
    "# Save data to a JSON file\n",
    "with open(\"saved_data.json\", \"w\") as file:\n",
    "    json.dump(data_to_save, file)\n",
    "\n",
    "print(\"Data saved successfully!\")"
   ],
   "metadata": {
    "collapsed": false
   }
  },
  {
   "cell_type": "code",
   "execution_count": 1,
   "outputs": [
    {
     "name": "stdout",
     "output_type": "stream",
     "text": [
      "['None', 'PHD/QD/Coding', 'PHD/QD/Studying_Papers', 'PHD/Meetings', 'SelfDev/Entr/Reading', 'SelfDev/Lang', 'SelfDev/Sport', 'Socials/Writing_Posts', 'Socials/Others', 'House_Chores']\n"
     ]
    }
   ],
   "source": [
    "import json\n",
    "\n",
    "data = {}  # Initialize an empty dictionary to store the data\n",
    "\n",
    "# Function to add a new activity, task, or subtask\n",
    "def add_entry(project_code, activity, task, sub_task, dates, time_slots):\n",
    "    if project_code not in data:\n",
    "        data[project_code] = {}\n",
    "    if activity not in data[project_code]:\n",
    "        data[project_code][activity] = {}\n",
    "    if task not in data[project_code][activity]:\n",
    "        data[project_code][activity][task] = {}\n",
    "    data[project_code][activity][task][sub_task] = {\n",
    "        \"dates\": dates,\n",
    "        \"time_slots\": time_slots\n",
    "    }\n",
    "\n",
    "# Sample interactive input\n",
    "project_code = \"project_code_1\"\n",
    "activity = \"activity_1\"\n",
    "task = \"task_1\"\n",
    "sub_task = \"sub_task_1\"\n",
    "dates = [\"25/07/2023\", \"26/07/2023\"]\n",
    "time_slots = [\"09:00\", \"10:30\"]\n",
    "\n",
    "# Call the function to add the entry to the data\n",
    "add_entry(project_code, activity, task, sub_task, dates, time_slots)\n",
    "\n",
    "# Save the data to a JSON file\n",
    "with open(\"project_data.json\", \"w\") as file:\n",
    "    json.dump(data, file)\n",
    "\n",
    "# To load the data from the JSON file back into the dictionary\n",
    "with open(\"project_data.json\", \"r\") as file:\n",
    "    data = json.load(file)"
   ],
   "metadata": {
    "collapsed": false,
    "ExecuteTime": {
     "end_time": "2023-07-25T19:27:11.216873Z",
     "start_time": "2023-07-25T19:27:11.213288Z"
    }
   }
  },
  {
   "cell_type": "code",
   "execution_count": 3,
   "outputs": [
    {
     "name": "stdout",
     "output_type": "stream",
     "text": [
      "None Undefined\n",
      "Data updated successfully!\n"
     ]
    }
   ],
   "source": [
    "import os\n",
    "import sys\n",
    "\n",
    "file_dir = os.path.dirname('/Users/valentinagualt/PycharmProjects/Gualtieri/gualtieri/auxiliaryFunctions.py')\n",
    "sys.path.append(file_dir)\n",
    "\n",
    "from auxiliaryFunctions import *\n",
    "file_name = \"/Users/valentinagualt/PycharmProjects/Gualtieri/saved_data.json\"  # Replace with the name of your JSON file\n",
    "\n",
    "empty_line = {\"None\": {\"Undefined\": {\"Undefined\": {\"dates\": [], \"duration\": []}}}}\n",
    "\n",
    "dic = load_json_data(file_name)\n",
    "update_data_entry(dic, 'None','Undefined','Undefined', 'blabla', 'balbal',file_name)"
   ],
   "metadata": {
    "collapsed": false,
    "ExecuteTime": {
     "end_time": "2023-07-25T21:15:32.446297Z",
     "start_time": "2023-07-25T21:15:32.440931Z"
    }
   }
  },
  {
   "cell_type": "code",
   "execution_count": null,
   "outputs": [],
   "source": [],
   "metadata": {
    "collapsed": false
   }
  }
 ],
 "metadata": {
  "kernelspec": {
   "display_name": "Python 3",
   "language": "python",
   "name": "python3"
  },
  "language_info": {
   "codemirror_mode": {
    "name": "ipython",
    "version": 2
   },
   "file_extension": ".py",
   "mimetype": "text/x-python",
   "name": "python",
   "nbconvert_exporter": "python",
   "pygments_lexer": "ipython2",
   "version": "2.7.6"
  }
 },
 "nbformat": 4,
 "nbformat_minor": 0
}
